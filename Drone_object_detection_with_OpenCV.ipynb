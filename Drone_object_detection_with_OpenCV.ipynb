{
  "nbformat": 4,
  "nbformat_minor": 0,
  "metadata": {
    "colab": {
      "provenance": [],
      "authorship_tag": "ABX9TyP9+bNntEDFDOfR8KPnCQk6",
      "include_colab_link": true
    },
    "kernelspec": {
      "name": "python3",
      "display_name": "Python 3"
    },
    "language_info": {
      "name": "python"
    }
  },
  "cells": [
    {
      "cell_type": "markdown",
      "metadata": {
        "id": "view-in-github",
        "colab_type": "text"
      },
      "source": [
        "<a href=\"https://colab.research.google.com/github/dedemasutti/Drone-programming-in-python/blob/main/Drone_object_detection_with_OpenCV.ipynb\" target=\"_parent\"><img src=\"https://colab.research.google.com/assets/colab-badge.svg\" alt=\"Open In Colab\"/></a>"
      ]
    },
    {
      "cell_type": "code",
      "execution_count": null,
      "metadata": {
        "id": "EmrjiPME65Lt"
      },
      "outputs": [],
      "source": [
        "import cv2\n",
        "\n",
        "def detectar_objetos(frame):\n",
        "    # Carregar o classificador pré-treinado (por exemplo, Haar Cascade)\n",
        "    classificador = cv2.CascadeClassifier('caminho/para/classificador.xml')\n",
        "\n",
        "    # Converter o frame para escala de cinza\n",
        "    frame_cinza = cv2.cvtColor(frame, cv2.COLOR_BGR2GRAY)\n",
        "\n",
        "    # Detectar objetos na imagem\n",
        "    objetos = classificador.detectMultiScale(frame_cinza, scaleFactor=1.1, minNeighbors=5, minSize=(30, 30))\n",
        "\n",
        "    # Desenhar retângulos ao redor dos objetos detectados\n",
        "    for (x, y, w, h) in objetos:\n",
        "        cv2.rectangle(frame, (x, y), (x+w, y+h), (0, 255, 0), 2)\n",
        "\n",
        "    return frame\n",
        "\n",
        "# Inicializar a captura de vídeo do drone (pode variar dependendo da biblioteca usada)\n",
        "cap = cv2.VideoCapture('endereco/do/drone')\n",
        "\n",
        "while True:\n",
        "    # Capturar o próximo frame do vídeo\n",
        "    ret, frame = cap.read()\n",
        "\n",
        "    # Verificar se a captura de vídeo foi bem sucedida\n",
        "    if not ret:\n",
        "        break\n",
        "\n",
        "    # Detectar objetos no frame atual\n",
        "    frame_detectado = detectar_objetos(frame)\n",
        "\n",
        "    # Exibir o frame com objetos detectados\n",
        "    cv2.imshow('Detecção de Objetos', frame_detectado)\n",
        "\n",
        "    # Verificar se a tecla 'q' foi pressionada para sair do loop\n",
        "    if cv2.waitKey(1) & 0xFF == ord('q'):\n",
        "        break\n",
        "\n",
        "# Liberar recursos\n",
        "cap.release()\n",
        "cv2.destroyAllWindows()\n"
      ]
    }
  ]
}