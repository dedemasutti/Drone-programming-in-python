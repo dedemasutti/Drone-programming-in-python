{
  "nbformat": 4,
  "nbformat_minor": 0,
  "metadata": {
    "colab": {
      "provenance": [],
      "authorship_tag": "ABX9TyMH/SyMcM3UdkN9JPUVMs0c",
      "include_colab_link": true
    },
    "kernelspec": {
      "name": "python3",
      "display_name": "Python 3"
    },
    "language_info": {
      "name": "python"
    }
  },
  "cells": [
    {
      "cell_type": "markdown",
      "metadata": {
        "id": "view-in-github",
        "colab_type": "text"
      },
      "source": [
        "<a href=\"https://colab.research.google.com/github/dedemasutti/Drone-programming-in-python/blob/main/KeyBoardsControl.ipynb\" target=\"_parent\"><img src=\"https://colab.research.google.com/assets/colab-badge.svg\" alt=\"Open In Colab\"/></a>"
      ]
    },
    {
      "cell_type": "code",
      "execution_count": null,
      "metadata": {
        "id": "9HFBZhMllwBK"
      },
      "outputs": [],
      "source": [
        "# Import clas KeyPressModule as kpm\n",
        "import KeyPressModule as kpm\n",
        "from time import sleep"
      ]
    },
    {
      "cell_type": "code",
      "source": [
        "# This part of code define input of keyboard control. \n",
        "kpm.init()\n",
        "my_drone = tello.Tello()\n",
        "my_drone.connect()\n",
        "print(my_drone.get_battery())\n",
        "\n",
        "def getKeyboardInput():\n",
        "    lr,fb,ud,yv = 0,0,0,0\n",
        "    speed = 70\n",
        "\n",
        "    if kpm.getKey(\"LEFT\"): lr = -speed\n",
        "    elif kpm.getKey(\"RIGHT\"): lr = speed\n",
        "\n",
        "    if kpm.getKey(\"UP\"): fb = speed\n",
        "    elif kpm.getKey(\"DOWN\"): fb = -speed\n",
        "\n",
        "    if kpm.getKey(\"w\"): ud = speed\n",
        "    elif kpm.getKey(\"s\"): ud = -speed\n",
        "\n",
        "    if kpm.getKey(\"a\"): yv = speed\n",
        "    elif kpm.getKey(\"d\"): yv = -speed\n",
        "\n",
        "    if kpm.getKey(\"q\"):  my_drone.land()\n",
        "    if kpm.getKey(\"z\"):  my_drone.takeoff()\n",
        "\n",
        "    return[lr,fb,ud,yv]\n",
        "\n",
        "while True:\n",
        "  values = getKeyboardInput()\n",
        "  my_drone.send_rc_control(values[0], values[1], values[2], values[3])\n",
        "  sleep(0.1)\n",
        "\n",
        "\n"
      ],
      "metadata": {
        "id": "virM3L9tmQkR"
      },
      "execution_count": null,
      "outputs": []
    },
    {
      "cell_type": "code",
      "source": [],
      "metadata": {
        "id": "rLjfAg5TG1kT"
      },
      "execution_count": null,
      "outputs": []
    }
  ]
}