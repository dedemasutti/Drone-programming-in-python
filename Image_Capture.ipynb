{
  "nbformat": 4,
  "nbformat_minor": 0,
  "metadata": {
    "colab": {
      "provenance": [],
      "authorship_tag": "ABX9TyOh0vQT9PfvRSi+QOhWNaCG",
      "include_colab_link": true
    },
    "kernelspec": {
      "name": "python3",
      "display_name": "Python 3"
    },
    "language_info": {
      "name": "python"
    }
  },
  "cells": [
    {
      "cell_type": "markdown",
      "metadata": {
        "id": "view-in-github",
        "colab_type": "text"
      },
      "source": [
        "<a href=\"https://colab.research.google.com/github/dedemasutti/Drone-programming-in-python/blob/main/Image_Capture.ipynb\" target=\"_parent\"><img src=\"https://colab.research.google.com/assets/colab-badge.svg\" alt=\"Open In Colab\"/></a>"
      ]
    },
    {
      "cell_type": "code",
      "execution_count": null,
      "metadata": {
        "id": "-6KRl7Bp_g7Q"
      },
      "outputs": [],
      "source": [
        "# Import OpenCV library and tello. Import class connect\n",
        "from djitello import tello\n",
        "import cv2\n",
        "import connect"
      ]
    },
    {
      "cell_type": "code",
      "source": [
        "# Connect drone with class ImageCap.\n",
        "class ImageCap():\n",
        "  def __init__(self):\n",
        "    self.my_drone = tello.Tello()\n",
        "    self.my_drone.connect()\n",
        "    print(my_drone.get_battery())\n",
        "\n",
        "\n",
        "my_drone.streamon()\n"
      ],
      "metadata": {
        "id": "-AHRQ6jqBb4e"
      },
      "execution_count": null,
      "outputs": []
    },
    {
      "cell_type": "code",
      "source": [
        "while True:\n",
        "  img = my_drone.get_frame_read().frame\n",
        "  img = cv2.resize(image, (360, 240))\n",
        "  cv2.imshow('Image', img)\n",
        "  cv2.waitkey(1)"
      ],
      "metadata": {
        "id": "Pjs23U-3B39R"
      },
      "execution_count": null,
      "outputs": []
    },
    {
      "cell_type": "code",
      "source": [],
      "metadata": {
        "id": "0D-J9HYNCGYa"
      },
      "execution_count": null,
      "outputs": []
    }
  ]
}